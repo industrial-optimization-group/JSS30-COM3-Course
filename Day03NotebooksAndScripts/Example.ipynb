{
 "cells": [
  {
   "cell_type": "markdown",
   "metadata": {},
   "source": [
    "# Basics of desdeo-emo"
   ]
  },
  {
   "cell_type": "code",
   "execution_count": null,
   "metadata": {},
   "outputs": [],
   "source": [
    "import plotly.graph_objects as go\n",
    "import numpy as np\n",
    "import pandas as pd\n",
    "\n",
    "from desdeo_problem import variable_builder, ScalarObjective, MOProblem\n",
    "from desdeo_problem.testproblems.TestProblems import test_problem_builder\n",
    "\n",
    "from desdeo_emo.EAs import NSGAIII"
   ]
  },
  {
   "cell_type": "markdown",
   "metadata": {},
   "source": [
    "## Coello MOP7\n",
    "\n",
    "### Definition\n",
    "![Definition](https://raw.githubusercontent.com/industrial-optimization-group/desdeo-emo/master/docs/notebooks/notebook_extras/MOP7.png)\n",
    "\n",
    "### Pareto set and front\n",
    "![Front](https://raw.githubusercontent.com/industrial-optimization-group/desdeo-emo/master/docs/notebooks/notebook_extras/MOP7_PF.png)\n",
    "\n",
    "Coello, Carlos A. Coello, Gary B. Lamont, and David A. Van Veldhuizen. Evolutionary algorithms for solving multi-objective problems. Vol. 5. New York: Springer, 2007."
   ]
  },
  {
   "cell_type": "markdown",
   "metadata": {},
   "source": [
    "## Define objective functions"
   ]
  },
  {
   "cell_type": "code",
   "execution_count": null,
   "metadata": {},
   "outputs": [],
   "source": [
    "def f_1(x):\n",
    "    term1 = ((x[:,0] - 2) ** 2) / 2\n",
    "    term2 = ((x[:,1] + 1) ** 2) / 13\n",
    "    return term1 + term2 + 3\n",
    "\n",
    "def f_2(x):\n",
    "    term1 = ((x[:, 0] + x[:, 1] - 3) ** 2) / 36\n",
    "    term2 = ((-x[:, 0] + x[:, 1] + 2) ** 2) / 8\n",
    "    return term1 + term2 - 17\n",
    "\n",
    "def f_3(x):\n",
    "    term1 = ((x[:, 0] + (2 * x[:, 1]) - 1) ** 2) / 175\n",
    "    term2 = ((-x[:, 0] + 2* x[:, 1]) ** 2) / 17\n",
    "    return term1 + term2 - 13"
   ]
  },
  {
   "cell_type": "markdown",
   "metadata": {},
   "source": [
    "Note that the expected input `x` is two dimensional. It should be a 2-D numpy array."
   ]
  },
  {
   "cell_type": "markdown",
   "metadata": {},
   "source": [
    "## Create Variable objects"
   ]
  },
  {
   "cell_type": "code",
   "execution_count": null,
   "metadata": {},
   "outputs": [],
   "source": [
    "help(variable_builder)"
   ]
  },
  {
   "cell_type": "code",
   "execution_count": null,
   "metadata": {},
   "outputs": [],
   "source": [
    "list_vars = variable_builder(['x', 'y'],\n",
    "                             initial_values = [0,0],\n",
    "                             lower_bounds=[-400, -400],\n",
    "                             upper_bounds=[400, 400])\n",
    "list_vars"
   ]
  },
  {
   "cell_type": "markdown",
   "metadata": {},
   "source": [
    "## Create Objective objects"
   ]
  },
  {
   "cell_type": "code",
   "execution_count": null,
   "metadata": {},
   "outputs": [],
   "source": [
    "f1 = ScalarObjective(name='f1', evaluator=f_1)\n",
    "f2 = ScalarObjective(name='f2', evaluator=f_2)\n",
    "f3 = ScalarObjective(name='f3', evaluator=f_3)\n",
    "list_objs = [f1, f2, f3]"
   ]
  },
  {
   "cell_type": "markdown",
   "metadata": {},
   "source": [
    "## Create the problem object"
   ]
  },
  {
   "cell_type": "code",
   "execution_count": null,
   "metadata": {},
   "outputs": [],
   "source": [
    "problem = MOProblem(variables=list_vars, objectives=list_objs)"
   ]
  },
  {
   "cell_type": "markdown",
   "metadata": {},
   "source": [
    "## Using the EAs\n",
    "\n",
    "Pass the problem object to the EA, pass parameters as arguments if required."
   ]
  },
  {
   "cell_type": "code",
   "execution_count": null,
   "metadata": {
    "tags": []
   },
   "outputs": [],
   "source": [
    "help(NSGAIII)"
   ]
  },
  {
   "cell_type": "code",
   "execution_count": null,
   "metadata": {},
   "outputs": [],
   "source": [
    "evolver = NSGAIII(problem,\n",
    "                  n_iterations=10,\n",
    "                  n_gen_per_iter=100,\n",
    "                  population_size=100)"
   ]
  },
  {
   "cell_type": "code",
   "execution_count": null,
   "metadata": {},
   "outputs": [],
   "source": [
    "while evolver.continue_evolution():\n",
    "    evolver.iterate()"
   ]
  },
  {
   "cell_type": "markdown",
   "metadata": {},
   "source": [
    "## Visualization of optimized decision variables and objective values using Plotly"
   ]
  },
  {
   "cell_type": "code",
   "execution_count": null,
   "metadata": {},
   "outputs": [],
   "source": [
    "individuals, solutions = evolver.end()\n",
    "\n",
    "fig1 = go.Figure(\n",
    "    data=go.Scatter(\n",
    "        x=individuals[:,0], \n",
    "        y=individuals[:,1], \n",
    "        mode=\"markers\"))\n",
    "fig1"
   ]
  },
  {
   "cell_type": "code",
   "execution_count": null,
   "metadata": {},
   "outputs": [],
   "source": [
    "fig2 = go.Figure(data=go.Scatter3d(x=solutions[:,0],\n",
    "                                   y=solutions[:,1],\n",
    "                                   z=solutions[:,2],\n",
    "                                   mode=\"markers\",\n",
    "                                   marker_size=5))\n",
    "fig2"
   ]
  },
  {
   "cell_type": "code",
   "execution_count": null,
   "metadata": {},
   "outputs": [],
   "source": [
    "pd.DataFrame(solutions).to_csv(\"MOP7_true_front.csv\")"
   ]
  }
 ],
 "metadata": {
  "kernelspec": {
   "display_name": "desdeo-emo",
   "language": "python",
   "name": "desdeo-emo"
  },
  "language_info": {
   "codemirror_mode": {
    "name": "ipython",
    "version": 3
   },
   "file_extension": ".py",
   "mimetype": "text/x-python",
   "name": "python",
   "nbconvert_exporter": "python",
   "pygments_lexer": "ipython3",
   "version": "3.7.7"
  }
 },
 "nbformat": 4,
 "nbformat_minor": 4
}
